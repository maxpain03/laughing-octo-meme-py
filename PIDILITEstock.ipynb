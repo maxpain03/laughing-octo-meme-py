{
  "nbformat": 4,
  "nbformat_minor": 0,
  "metadata": {
    "kernelspec": {
      "display_name": "Python 3",
      "language": "python",
      "name": "python3"
    },
    "language_info": {
      "codemirror_mode": {
        "name": "ipython",
        "version": 3
      },
      "file_extension": ".py",
      "mimetype": "text/x-python",
      "name": "python",
      "nbconvert_exporter": "python",
      "pygments_lexer": "ipython3",
      "version": "3.8.3"
    },
    "colab": {
      "name": "PIDILITEstock.ipynb",
      "provenance": [],
      "include_colab_link": true
    }
  },
  "cells": [
    {
      "cell_type": "markdown",
      "metadata": {
        "id": "view-in-github",
        "colab_type": "text"
      },
      "source": [
        "<a href=\"https://colab.research.google.com/github/maxpain03/laughing-octo-meme-py/blob/main/PIDILITEstock.ipynb\" target=\"_parent\"><img src=\"https://colab.research.google.com/assets/colab-badge.svg\" alt=\"Open In Colab\"/></a>"
      ]
    },
    {
      "cell_type": "markdown",
      "metadata": {
        "id": "-Fb-Bxy6dss_"
      },
      "source": [
        "# Simple Return\n"
      ]
    },
    {
      "cell_type": "code",
      "metadata": {
        "id": "QXtOwbxHdstO"
      },
      "source": [
        "import numpy as np\n",
        "import pandas as pd\n",
        "from pandas_datareader import data as dt\n",
        "import matplotlib.pyplot as plt"
      ],
      "execution_count": null,
      "outputs": []
    },
    {
      "cell_type": "code",
      "metadata": {
        "id": "td9kRWqpdstP"
      },
      "source": [
        "## Considering Time Frame as 1 year (19 Dec 2019 to 18 Dec 2020)"
      ],
      "execution_count": null,
      "outputs": []
    },
    {
      "cell_type": "code",
      "metadata": {
        "id": "aE1vVoNwdstQ",
        "outputId": "8e7af61c-6268-4cd9-ceef-667f038bc884"
      },
      "source": [
        "pidilite = dt.DataReader ('PIDILITIND.NS', data_source = 'yahoo', start = '2019-12-19')\n",
        "pidilite"
      ],
      "execution_count": null,
      "outputs": [
        {
          "output_type": "execute_result",
          "data": {
            "text/html": [
              "<div>\n",
              "<style scoped>\n",
              "    .dataframe tbody tr th:only-of-type {\n",
              "        vertical-align: middle;\n",
              "    }\n",
              "\n",
              "    .dataframe tbody tr th {\n",
              "        vertical-align: top;\n",
              "    }\n",
              "\n",
              "    .dataframe thead th {\n",
              "        text-align: right;\n",
              "    }\n",
              "</style>\n",
              "<table border=\"1\" class=\"dataframe\">\n",
              "  <thead>\n",
              "    <tr style=\"text-align: right;\">\n",
              "      <th></th>\n",
              "      <th>High</th>\n",
              "      <th>Low</th>\n",
              "      <th>Open</th>\n",
              "      <th>Close</th>\n",
              "      <th>Volume</th>\n",
              "      <th>Adj Close</th>\n",
              "    </tr>\n",
              "    <tr>\n",
              "      <th>Date</th>\n",
              "      <th></th>\n",
              "      <th></th>\n",
              "      <th></th>\n",
              "      <th></th>\n",
              "      <th></th>\n",
              "      <th></th>\n",
              "    </tr>\n",
              "  </thead>\n",
              "  <tbody>\n",
              "    <tr>\n",
              "      <th>2019-12-19</th>\n",
              "      <td>1384.000000</td>\n",
              "      <td>1367.000000</td>\n",
              "      <td>1369.900024</td>\n",
              "      <td>1376.800049</td>\n",
              "      <td>1005159.0</td>\n",
              "      <td>1370.746826</td>\n",
              "    </tr>\n",
              "    <tr>\n",
              "      <th>2019-12-20</th>\n",
              "      <td>1385.199951</td>\n",
              "      <td>1374.000000</td>\n",
              "      <td>1377.099976</td>\n",
              "      <td>1377.550049</td>\n",
              "      <td>558189.0</td>\n",
              "      <td>1371.493530</td>\n",
              "    </tr>\n",
              "    <tr>\n",
              "      <th>2019-12-23</th>\n",
              "      <td>1386.699951</td>\n",
              "      <td>1361.650024</td>\n",
              "      <td>1376.000000</td>\n",
              "      <td>1377.099976</td>\n",
              "      <td>244310.0</td>\n",
              "      <td>1371.045532</td>\n",
              "    </tr>\n",
              "    <tr>\n",
              "      <th>2019-12-24</th>\n",
              "      <td>1387.849976</td>\n",
              "      <td>1365.000000</td>\n",
              "      <td>1380.000000</td>\n",
              "      <td>1376.900024</td>\n",
              "      <td>222884.0</td>\n",
              "      <td>1370.846436</td>\n",
              "    </tr>\n",
              "    <tr>\n",
              "      <th>2019-12-26</th>\n",
              "      <td>1396.000000</td>\n",
              "      <td>1377.000000</td>\n",
              "      <td>1384.099976</td>\n",
              "      <td>1390.099976</td>\n",
              "      <td>577261.0</td>\n",
              "      <td>1383.988281</td>\n",
              "    </tr>\n",
              "    <tr>\n",
              "      <th>...</th>\n",
              "      <td>...</td>\n",
              "      <td>...</td>\n",
              "      <td>...</td>\n",
              "      <td>...</td>\n",
              "      <td>...</td>\n",
              "      <td>...</td>\n",
              "    </tr>\n",
              "    <tr>\n",
              "      <th>2020-12-14</th>\n",
              "      <td>1652.500000</td>\n",
              "      <td>1624.000000</td>\n",
              "      <td>1649.800049</td>\n",
              "      <td>1627.300049</td>\n",
              "      <td>373871.0</td>\n",
              "      <td>1627.300049</td>\n",
              "    </tr>\n",
              "    <tr>\n",
              "      <th>2020-12-15</th>\n",
              "      <td>1634.550049</td>\n",
              "      <td>1612.300049</td>\n",
              "      <td>1629.849976</td>\n",
              "      <td>1620.449951</td>\n",
              "      <td>422836.0</td>\n",
              "      <td>1620.449951</td>\n",
              "    </tr>\n",
              "    <tr>\n",
              "      <th>2020-12-16</th>\n",
              "      <td>1640.900024</td>\n",
              "      <td>1620.000000</td>\n",
              "      <td>1626.000000</td>\n",
              "      <td>1625.949951</td>\n",
              "      <td>1083111.0</td>\n",
              "      <td>1625.949951</td>\n",
              "    </tr>\n",
              "    <tr>\n",
              "      <th>2020-12-17</th>\n",
              "      <td>1652.000000</td>\n",
              "      <td>1626.349976</td>\n",
              "      <td>1630.000000</td>\n",
              "      <td>1629.650024</td>\n",
              "      <td>846175.0</td>\n",
              "      <td>1629.650024</td>\n",
              "    </tr>\n",
              "    <tr>\n",
              "      <th>2020-12-18</th>\n",
              "      <td>1742.949951</td>\n",
              "      <td>1634.500000</td>\n",
              "      <td>1634.500000</td>\n",
              "      <td>1731.800049</td>\n",
              "      <td>7057251.0</td>\n",
              "      <td>1731.800049</td>\n",
              "    </tr>\n",
              "  </tbody>\n",
              "</table>\n",
              "<p>250 rows × 6 columns</p>\n",
              "</div>"
            ],
            "text/plain": [
              "                   High          Low         Open        Close     Volume  \\\n",
              "Date                                                                        \n",
              "2019-12-19  1384.000000  1367.000000  1369.900024  1376.800049  1005159.0   \n",
              "2019-12-20  1385.199951  1374.000000  1377.099976  1377.550049   558189.0   \n",
              "2019-12-23  1386.699951  1361.650024  1376.000000  1377.099976   244310.0   \n",
              "2019-12-24  1387.849976  1365.000000  1380.000000  1376.900024   222884.0   \n",
              "2019-12-26  1396.000000  1377.000000  1384.099976  1390.099976   577261.0   \n",
              "...                 ...          ...          ...          ...        ...   \n",
              "2020-12-14  1652.500000  1624.000000  1649.800049  1627.300049   373871.0   \n",
              "2020-12-15  1634.550049  1612.300049  1629.849976  1620.449951   422836.0   \n",
              "2020-12-16  1640.900024  1620.000000  1626.000000  1625.949951  1083111.0   \n",
              "2020-12-17  1652.000000  1626.349976  1630.000000  1629.650024   846175.0   \n",
              "2020-12-18  1742.949951  1634.500000  1634.500000  1731.800049  7057251.0   \n",
              "\n",
              "              Adj Close  \n",
              "Date                     \n",
              "2019-12-19  1370.746826  \n",
              "2019-12-20  1371.493530  \n",
              "2019-12-23  1371.045532  \n",
              "2019-12-24  1370.846436  \n",
              "2019-12-26  1383.988281  \n",
              "...                 ...  \n",
              "2020-12-14  1627.300049  \n",
              "2020-12-15  1620.449951  \n",
              "2020-12-16  1625.949951  \n",
              "2020-12-17  1629.650024  \n",
              "2020-12-18  1731.800049  \n",
              "\n",
              "[250 rows x 6 columns]"
            ]
          },
          "metadata": {
            "tags": []
          },
          "execution_count": 3
        }
      ]
    },
    {
      "cell_type": "code",
      "metadata": {
        "id": "8-7U-lxBdstT"
      },
      "source": [
        "# Now Finding Simple returns for Pidilite Industries comapany's stock listed on NSE"
      ],
      "execution_count": null,
      "outputs": []
    },
    {
      "cell_type": "code",
      "metadata": {
        "id": "LSCrmuLjdstT"
      },
      "source": [
        "pidilite['simple_return'] = (pidilite['Adj Close'] / pidilite['Adj Close'].shift(1)) - 1"
      ],
      "execution_count": null,
      "outputs": []
    },
    {
      "cell_type": "code",
      "metadata": {
        "id": "A0FIZj5NdstU",
        "outputId": "a36f830c-efe9-4030-d7e8-2d41bf82dfd1"
      },
      "source": [
        "pidilite['simple_return']"
      ],
      "execution_count": null,
      "outputs": [
        {
          "output_type": "execute_result",
          "data": {
            "text/plain": [
              "Date\n",
              "2019-12-19         NaN\n",
              "2019-12-20    0.000545\n",
              "2019-12-23   -0.000327\n",
              "2019-12-24   -0.000145\n",
              "2019-12-26    0.009587\n",
              "                ...   \n",
              "2020-12-14   -0.006896\n",
              "2020-12-15   -0.004209\n",
              "2020-12-16    0.003394\n",
              "2020-12-17    0.002276\n",
              "2020-12-18    0.062682\n",
              "Name: simple_return, Length: 250, dtype: float64"
            ]
          },
          "metadata": {
            "tags": []
          },
          "execution_count": 6
        }
      ]
    },
    {
      "cell_type": "code",
      "metadata": {
        "id": "ndyOEDugdstV",
        "outputId": "5cb0f6a1-385e-4247-e4f0-c929874e5921"
      },
      "source": [
        "pidilite['simple_return'].plot(figsize = (10, 5))"
      ],
      "execution_count": null,
      "outputs": [
        {
          "output_type": "execute_result",
          "data": {
            "text/plain": [
              "<matplotlib.axes._subplots.AxesSubplot at 0x18dafb4aa00>"
            ]
          },
          "metadata": {
            "tags": []
          },
          "execution_count": 7
        },
        {
          "output_type": "display_data",
          "data": {
            "image/png": "[encoded data removed]",
            "text/plain": [
              "<Figure size 720x360 with 1 Axes>"
            ]
          },
          "metadata": {
            "tags": [],
            "needs_background": "light"
          }
        }
      ]
    },
    {
      "cell_type": "code",
      "metadata": {
        "id": "pkJX2U13dstV"
      },
      "source": [
        "# Average for total observations"
      ],
      "execution_count": null,
      "outputs": []
    },
    {
      "cell_type": "code",
      "metadata": {
        "id": "YEUuAxBIdstW",
        "outputId": "34fc093d-742c-41ec-af37-978d48daf4fa"
      },
      "source": [
        "avg = round(pidilite['simple_return'].mean(),5)\n",
        "avg"
      ],
      "execution_count": null,
      "outputs": [
        {
          "output_type": "execute_result",
          "data": {
            "text/plain": [
              "0.00117"
            ]
          },
          "metadata": {
            "tags": []
          },
          "execution_count": 9
        }
      ]
    },
    {
      "cell_type": "code",
      "metadata": {
        "id": "VQso1YQtdstX"
      },
      "source": [
        "# Stock market is active for 250 days in a year hence average should be multiplied by 250"
      ],
      "execution_count": null,
      "outputs": []
    },
    {
      "cell_type": "code",
      "metadata": {
        "id": "F_43O90kdstY",
        "outputId": "19b02f47-7438-49fb-8db8-1eb28971d2f1"
      },
      "source": [
        "avg = avg*250\n",
        "avg"
      ],
      "execution_count": null,
      "outputs": [
        {
          "output_type": "execute_result",
          "data": {
            "text/plain": [
              "0.2925"
            ]
          },
          "metadata": {
            "tags": []
          },
          "execution_count": 11
        }
      ]
    },
    {
      "cell_type": "code",
      "metadata": {
        "id": "abe66YLsdstZ",
        "outputId": "14ee8c61-7916-46ea-b89f-50dd1c8a2296"
      },
      "source": [
        "print (str(round(avg,5) * 100) + '%')"
      ],
      "execution_count": null,
      "outputs": [
        {
          "output_type": "stream",
          "text": [
            "29.25%\n"
          ],
          "name": "stdout"
        }
      ]
    },
    {
      "cell_type": "markdown",
      "metadata": {
        "id": "81ZALr_udsta"
      },
      "source": [
        "# Logarithmic Returns"
      ]
    },
    {
      "cell_type": "code",
      "metadata": {
        "id": "nfkqATeZdsta",
        "outputId": "c33811af-305c-4362-d026-5f52802bd16e"
      },
      "source": [
        "pidilite ['log_return'] = np.log(pidilite['Adj Close']/pidilite['Adj Close'].shift(1))\n",
        "\n",
        "print (pidilite['log_return'])"
      ],
      "execution_count": null,
      "outputs": [
        {
          "output_type": "stream",
          "text": [
            "Date\n",
            "2019-12-19         NaN\n",
            "2019-12-20    0.000545\n",
            "2019-12-23   -0.000327\n",
            "2019-12-24   -0.000145\n",
            "2019-12-26    0.009541\n",
            "                ...   \n",
            "2020-12-14   -0.006920\n",
            "2020-12-15   -0.004218\n",
            "2020-12-16    0.003388\n",
            "2020-12-17    0.002273\n",
            "2020-12-18    0.060796\n",
            "Name: log_return, Length: 250, dtype: float64\n"
          ],
          "name": "stdout"
        }
      ]
    },
    {
      "cell_type": "code",
      "metadata": {
        "id": "2HsAedcrdstb",
        "outputId": "6aead7a2-8eba-4a4a-9d9a-92880adb4797"
      },
      "source": [
        "pidilite ['log_return'].plot(figsize = (8,5))\n",
        "plt.show()"
      ],
      "execution_count": null,
      "outputs": [
        {
          "output_type": "display_data",
          "data": {
            "image/png": "[encoded data removed]",
            "text/plain": [
              "<Figure size 576x360 with 1 Axes>"
            ]
          },
          "metadata": {
            "tags": [],
            "needs_background": "light"
          }
        }
      ]
    },
    {
      "cell_type": "code",
      "metadata": {
        "id": "wt44G2-ddstc"
      },
      "source": [
        "# Now the daily average of Log returns is:"
      ],
      "execution_count": null,
      "outputs": []
    },
    {
      "cell_type": "code",
      "metadata": {
        "id": "PtmsYqVbdstd",
        "outputId": "fc3227c7-af59-462d-d751-e9c5a2b8a209"
      },
      "source": [
        "pidilite_daily = round(pidilite['log_return'].mean(),5)\n",
        "pidilite_daily"
      ],
      "execution_count": null,
      "outputs": [
        {
          "output_type": "execute_result",
          "data": {
            "text/plain": [
              "0.00094"
            ]
          },
          "metadata": {
            "tags": []
          },
          "execution_count": 16
        }
      ]
    },
    {
      "cell_type": "code",
      "metadata": {
        "id": "jGXWbnWDdstd"
      },
      "source": [
        "# Converting this into 250 working days of a year"
      ],
      "execution_count": null,
      "outputs": []
    },
    {
      "cell_type": "code",
      "metadata": {
        "id": "CJUzwVAodste",
        "outputId": "1195b49a-1776-486e-d43a-1a11c26e6e17"
      },
      "source": [
        "pidilite_annual = round(pidilite_daily * 250, 5)\n",
        "pidilite_annual"
      ],
      "execution_count": null,
      "outputs": [
        {
          "output_type": "execute_result",
          "data": {
            "text/plain": [
              "0.235"
            ]
          },
          "metadata": {
            "tags": []
          },
          "execution_count": 18
        }
      ]
    },
    {
      "cell_type": "code",
      "metadata": {
        "id": "tk0p6l6ydste",
        "outputId": "c8985a58-203d-4bb0-c995-e20c997e2b6b"
      },
      "source": [
        "print (str(round(pidilite_annual,5) * 100) + '%')"
      ],
      "execution_count": null,
      "outputs": [
        {
          "output_type": "stream",
          "text": [
            "23.5%\n"
          ],
          "name": "stdout"
        }
      ]
    }
  ]
}