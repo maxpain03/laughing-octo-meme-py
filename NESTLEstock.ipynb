{
 "cells": [
  {
   "cell_type": "markdown",
   "metadata": {},
   "source": [
    "# Simple Returns"
   ]
  },
  {
   "cell_type": "code",
   "execution_count": 1,
   "metadata": {},
   "outputs": [],
   "source": [
    "import numpy as np\n",
    "import pandas as pd\n",
    "from pandas_datareader import data as dt\n",
    "import matplotlib.pyplot as plt"
   ]
  },
  {
   "cell_type": "code",
   "execution_count": 2,
   "metadata": {},
   "outputs": [],
   "source": [
    "## Considering Time Frame as 1 year (19 Dec 2019 to 18 Dec 2020)"
   ]
  },
  {
   "cell_type": "code",
   "execution_count": 3,
   "metadata": {},
   "outputs": [
    {
     "data": {
      "text/html": [
       "<div>\n",
       "<style scoped>\n",
       "    .dataframe tbody tr th:only-of-type {\n",
       "        vertical-align: middle;\n",
       "    }\n",
       "\n",
       "    .dataframe tbody tr th {\n",
       "        vertical-align: top;\n",
       "    }\n",
       "\n",
       "    .dataframe thead th {\n",
       "        text-align: right;\n",
       "    }\n",
       "</style>\n",
       "<table border=\"1\" class=\"dataframe\">\n",
       "  <thead>\n",
       "    <tr style=\"text-align: right;\">\n",
       "      <th></th>\n",
       "      <th>High</th>\n",
       "      <th>Low</th>\n",
       "      <th>Open</th>\n",
       "      <th>Close</th>\n",
       "      <th>Volume</th>\n",
       "      <th>Adj Close</th>\n",
       "    </tr>\n",
       "    <tr>\n",
       "      <th>Date</th>\n",
       "      <th></th>\n",
       "      <th></th>\n",
       "      <th></th>\n",
       "      <th></th>\n",
       "      <th></th>\n",
       "      <th></th>\n",
       "    </tr>\n",
       "  </thead>\n",
       "  <tbody>\n",
       "    <tr>\n",
       "      <th>2019-12-19</th>\n",
       "      <td>14299.000000</td>\n",
       "      <td>14100.000000</td>\n",
       "      <td>14192.000000</td>\n",
       "      <td>14285.400391</td>\n",
       "      <td>68692.0</td>\n",
       "      <td>14015.462891</td>\n",
       "    </tr>\n",
       "    <tr>\n",
       "      <th>2019-12-20</th>\n",
       "      <td>14978.000000</td>\n",
       "      <td>14222.000000</td>\n",
       "      <td>14260.000000</td>\n",
       "      <td>14858.200195</td>\n",
       "      <td>423033.0</td>\n",
       "      <td>14577.438477</td>\n",
       "    </tr>\n",
       "    <tr>\n",
       "      <th>2019-12-23</th>\n",
       "      <td>14993.299805</td>\n",
       "      <td>14490.000000</td>\n",
       "      <td>14786.000000</td>\n",
       "      <td>14532.500000</td>\n",
       "      <td>125031.0</td>\n",
       "      <td>14257.892578</td>\n",
       "    </tr>\n",
       "    <tr>\n",
       "      <th>2019-12-24</th>\n",
       "      <td>14623.200195</td>\n",
       "      <td>14461.799805</td>\n",
       "      <td>14580.000000</td>\n",
       "      <td>14586.000000</td>\n",
       "      <td>39686.0</td>\n",
       "      <td>14310.381836</td>\n",
       "    </tr>\n",
       "    <tr>\n",
       "      <th>2019-12-26</th>\n",
       "      <td>14715.000000</td>\n",
       "      <td>14560.000000</td>\n",
       "      <td>14600.000000</td>\n",
       "      <td>14599.200195</td>\n",
       "      <td>45924.0</td>\n",
       "      <td>14323.331055</td>\n",
       "    </tr>\n",
       "    <tr>\n",
       "      <th>...</th>\n",
       "      <td>...</td>\n",
       "      <td>...</td>\n",
       "      <td>...</td>\n",
       "      <td>...</td>\n",
       "      <td>...</td>\n",
       "      <td>...</td>\n",
       "    </tr>\n",
       "    <tr>\n",
       "      <th>2020-12-14</th>\n",
       "      <td>18679.000000</td>\n",
       "      <td>18300.000000</td>\n",
       "      <td>18354.699219</td>\n",
       "      <td>18591.800781</td>\n",
       "      <td>130713.0</td>\n",
       "      <td>18591.800781</td>\n",
       "    </tr>\n",
       "    <tr>\n",
       "      <th>2020-12-15</th>\n",
       "      <td>18550.000000</td>\n",
       "      <td>18130.800781</td>\n",
       "      <td>18460.300781</td>\n",
       "      <td>18189.900391</td>\n",
       "      <td>135755.0</td>\n",
       "      <td>18189.900391</td>\n",
       "    </tr>\n",
       "    <tr>\n",
       "      <th>2020-12-16</th>\n",
       "      <td>18734.900391</td>\n",
       "      <td>18250.199219</td>\n",
       "      <td>18398.000000</td>\n",
       "      <td>18323.400391</td>\n",
       "      <td>221607.0</td>\n",
       "      <td>18323.400391</td>\n",
       "    </tr>\n",
       "    <tr>\n",
       "      <th>2020-12-17</th>\n",
       "      <td>18395.199219</td>\n",
       "      <td>18136.800781</td>\n",
       "      <td>18338.000000</td>\n",
       "      <td>18305.300781</td>\n",
       "      <td>98104.0</td>\n",
       "      <td>18305.300781</td>\n",
       "    </tr>\n",
       "    <tr>\n",
       "      <th>2020-12-18</th>\n",
       "      <td>18599.000000</td>\n",
       "      <td>18158.000000</td>\n",
       "      <td>18395.000000</td>\n",
       "      <td>18362.800781</td>\n",
       "      <td>249790.0</td>\n",
       "      <td>18362.800781</td>\n",
       "    </tr>\n",
       "  </tbody>\n",
       "</table>\n",
       "<p>250 rows × 6 columns</p>\n",
       "</div>"
      ],
      "text/plain": [
       "                    High           Low          Open         Close    Volume  \\\n",
       "Date                                                                           \n",
       "2019-12-19  14299.000000  14100.000000  14192.000000  14285.400391   68692.0   \n",
       "2019-12-20  14978.000000  14222.000000  14260.000000  14858.200195  423033.0   \n",
       "2019-12-23  14993.299805  14490.000000  14786.000000  14532.500000  125031.0   \n",
       "2019-12-24  14623.200195  14461.799805  14580.000000  14586.000000   39686.0   \n",
       "2019-12-26  14715.000000  14560.000000  14600.000000  14599.200195   45924.0   \n",
       "...                  ...           ...           ...           ...       ...   \n",
       "2020-12-14  18679.000000  18300.000000  18354.699219  18591.800781  130713.0   \n",
       "2020-12-15  18550.000000  18130.800781  18460.300781  18189.900391  135755.0   \n",
       "2020-12-16  18734.900391  18250.199219  18398.000000  18323.400391  221607.0   \n",
       "2020-12-17  18395.199219  18136.800781  18338.000000  18305.300781   98104.0   \n",
       "2020-12-18  18599.000000  18158.000000  18395.000000  18362.800781  249790.0   \n",
       "\n",
       "               Adj Close  \n",
       "Date                      \n",
       "2019-12-19  14015.462891  \n",
       "2019-12-20  14577.438477  \n",
       "2019-12-23  14257.892578  \n",
       "2019-12-24  14310.381836  \n",
       "2019-12-26  14323.331055  \n",
       "...                  ...  \n",
       "2020-12-14  18591.800781  \n",
       "2020-12-15  18189.900391  \n",
       "2020-12-16  18323.400391  \n",
       "2020-12-17  18305.300781  \n",
       "2020-12-18  18362.800781  \n",
       "\n",
       "[250 rows x 6 columns]"
      ]
     },
     "execution_count": 3,
     "metadata": {},
     "output_type": "execute_result"
    }
   ],
   "source": [
    "nestle = dt.DataReader ('NESTLEIND.NS', data_source = 'yahoo', start = '2019-12-19')\n",
    "nestle"
   ]
  },
  {
   "cell_type": "code",
   "execution_count": 4,
   "metadata": {},
   "outputs": [],
   "source": [
    "# Now Finding Simple returns for Nestle comapany's stock listed on NSE"
   ]
  },
  {
   "cell_type": "code",
   "execution_count": 5,
   "metadata": {},
   "outputs": [],
   "source": [
    "nestle['simple_return'] = (nestle['Adj Close'] / nestle['Adj Close'].shift(1)) - 1"
   ]
  },
  {
   "cell_type": "code",
   "execution_count": 6,
   "metadata": {},
   "outputs": [
    {
     "data": {
      "text/plain": [
       "Date\n",
       "2019-12-19         NaN\n",
       "2019-12-20    0.040097\n",
       "2019-12-23   -0.021921\n",
       "2019-12-24    0.003681\n",
       "2019-12-26    0.000905\n",
       "                ...   \n",
       "2020-12-14    0.010364\n",
       "2020-12-15   -0.021617\n",
       "2020-12-16    0.007339\n",
       "2020-12-17   -0.000988\n",
       "2020-12-18    0.003141\n",
       "Name: simple_return, Length: 250, dtype: float64"
      ]
     },
     "execution_count": 6,
     "metadata": {},
     "output_type": "execute_result"
    }
   ],
   "source": [
    "nestle['simple_return']"
   ]
  },
  {
   "cell_type": "code",
   "execution_count": 7,
   "metadata": {},
   "outputs": [
    {
     "data": {
      "text/plain": [
       "<matplotlib.axes._subplots.AxesSubplot at 0x1c6c67c9a30>"
      ]
     },
     "execution_count": 7,
     "metadata": {},
     "output_type": "execute_result"
    },
    {
     "data": {
      "image/png": "[encoded data removed]",
      "text/plain": [
       "<Figure size 720x360 with 1 Axes>"
      ]
     },
     "metadata": {
      "needs_background": "light"
     },
     "output_type": "display_data"
    }
   ],
   "source": [
    "nestle['simple_return'].plot(figsize = (10, 5))"
   ]
  },
  {
   "cell_type": "code",
   "execution_count": 8,
   "metadata": {},
   "outputs": [],
   "source": [
    "# Average for total observations"
   ]
  },
  {
   "cell_type": "code",
   "execution_count": 9,
   "metadata": {},
   "outputs": [
    {
     "data": {
      "text/plain": [
       "0.00131"
      ]
     },
     "execution_count": 9,
     "metadata": {},
     "output_type": "execute_result"
    }
   ],
   "source": [
    "avg = round(nestle['simple_return'].mean(),5)\n",
    "avg"
   ]
  },
  {
   "cell_type": "code",
   "execution_count": 10,
   "metadata": {},
   "outputs": [],
   "source": [
    "# Stock market is active for 250 days in a year hence average should be multiplied by 250"
   ]
  },
  {
   "cell_type": "code",
   "execution_count": 11,
   "metadata": {},
   "outputs": [
    {
     "data": {
      "text/plain": [
       "0.3275"
      ]
     },
     "execution_count": 11,
     "metadata": {},
     "output_type": "execute_result"
    }
   ],
   "source": [
    "avg = avg*250\n",
    "avg"
   ]
  },
  {
   "cell_type": "code",
   "execution_count": 12,
   "metadata": {},
   "outputs": [
    {
     "name": "stdout",
     "output_type": "stream",
     "text": [
      "32.75%\n"
     ]
    }
   ],
   "source": [
    "print (str(round(avg,5) * 100) + '%')"
   ]
  },
  {
   "cell_type": "markdown",
   "metadata": {},
   "source": [
    "# Logarithmic Returns"
   ]
  },
  {
   "cell_type": "code",
   "execution_count": 13,
   "metadata": {},
   "outputs": [
    {
     "name": "stdout",
     "output_type": "stream",
     "text": [
      "Date\n",
      "2019-12-19         NaN\n",
      "2019-12-20    0.039314\n",
      "2019-12-23   -0.022164\n",
      "2019-12-24    0.003675\n",
      "2019-12-26    0.000904\n",
      "                ...   \n",
      "2020-12-14    0.010310\n",
      "2020-12-15   -0.021854\n",
      "2020-12-16    0.007312\n",
      "2020-12-17   -0.000988\n",
      "2020-12-18    0.003136\n",
      "Name: log_return, Length: 250, dtype: float64\n"
     ]
    }
   ],
   "source": [
    "nestle ['log_return'] = np.log(nestle['Adj Close']/nestle['Adj Close'].shift(1))\n",
    "\n",
    "print (nestle['log_return'])"
   ]
  },
  {
   "cell_type": "code",
   "execution_count": 14,
   "metadata": {},
   "outputs": [
    {
     "data": {
      "image/png": "[encoded data removed]",
      "text/plain": [
       "<Figure size 576x360 with 1 Axes>"
      ]
     },
     "metadata": {
      "needs_background": "light"
     },
     "output_type": "display_data"
    }
   ],
   "source": [
    "nestle ['log_return'].plot(figsize = (8,5))\n",
    "plt.show()"
   ]
  },
  {
   "cell_type": "code",
   "execution_count": 15,
   "metadata": {},
   "outputs": [],
   "source": [
    "# Now the daily average of Log returns is:"
   ]
  },
  {
   "cell_type": "code",
   "execution_count": 16,
   "metadata": {},
   "outputs": [
    {
     "data": {
      "text/plain": [
       "0.00109"
      ]
     },
     "execution_count": 16,
     "metadata": {},
     "output_type": "execute_result"
    }
   ],
   "source": [
    "nestle_daily = round(nestle['log_return'].mean(),5)\n",
    "nestle_daily"
   ]
  },
  {
   "cell_type": "code",
   "execution_count": 17,
   "metadata": {},
   "outputs": [],
   "source": [
    "# Converting this into 250 working days of a year"
   ]
  },
  {
   "cell_type": "code",
   "execution_count": 18,
   "metadata": {},
   "outputs": [
    {
     "data": {
      "text/plain": [
       "0.2725"
      ]
     },
     "execution_count": 18,
     "metadata": {},
     "output_type": "execute_result"
    }
   ],
   "source": [
    "nestle_annual = round(nestle_daily * 250, 5)\n",
    "nestle_annual"
   ]
  },
  {
   "cell_type": "code",
   "execution_count": 19,
   "metadata": {},
   "outputs": [
    {
     "name": "stdout",
     "output_type": "stream",
     "text": [
      "27.250000000000004%\n"
     ]
    }
   ],
   "source": [
    "print (str(round(nestle_annual,5) * 100) + '%')"
   ]
  }
 ],
 "metadata": {
  "kernelspec": {
   "display_name": "Python 3",
   "language": "python",
   "name": "python3"
  },
  "language_info": {
   "codemirror_mode": {
    "name": "ipython",
    "version": 3
   },
   "file_extension": ".py",
   "mimetype": "text/x-python",
   "name": "python",
   "nbconvert_exporter": "python",
   "pygments_lexer": "ipython3",
   "version": "3.8.3"
  }
 },
 "nbformat": 4,
 "nbformat_minor": 4
}
