{
 "cells": [
  {
   "cell_type": "markdown",
   "metadata": {},
   "source": [
    "# Simple Returns"
   ]
  },
  {
   "cell_type": "code",
   "execution_count": 1,
   "metadata": {},
   "outputs": [],
   "source": [
    "import numpy as np\n",
    "import pandas as pd\n",
    "from pandas_datareader import data as dt\n",
    "import matplotlib.pyplot as plt"
   ]
  },
  {
   "cell_type": "code",
   "execution_count": 2,
   "metadata": {},
   "outputs": [],
   "source": [
    "## Considering Time Frame as 1 year (19 Dec 2019 to 18 Dec 2020)"
   ]
  },
  {
   "cell_type": "code",
   "execution_count": 3,
   "metadata": {},
   "outputs": [
    {
     "data": {
      "text/html": [
       "<div>\n",
       "<style scoped>\n",
       "    .dataframe tbody tr th:only-of-type {\n",
       "        vertical-align: middle;\n",
       "    }\n",
       "\n",
       "    .dataframe tbody tr th {\n",
       "        vertical-align: top;\n",
       "    }\n",
       "\n",
       "    .dataframe thead th {\n",
       "        text-align: right;\n",
       "    }\n",
       "</style>\n",
       "<table border=\"1\" class=\"dataframe\">\n",
       "  <thead>\n",
       "    <tr style=\"text-align: right;\">\n",
       "      <th></th>\n",
       "      <th>High</th>\n",
       "      <th>Low</th>\n",
       "      <th>Open</th>\n",
       "      <th>Close</th>\n",
       "      <th>Volume</th>\n",
       "      <th>Adj Close</th>\n",
       "    </tr>\n",
       "    <tr>\n",
       "      <th>Date</th>\n",
       "      <th></th>\n",
       "      <th></th>\n",
       "      <th></th>\n",
       "      <th></th>\n",
       "      <th></th>\n",
       "      <th></th>\n",
       "    </tr>\n",
       "  </thead>\n",
       "  <tbody>\n",
       "    <tr>\n",
       "      <th>2019-12-18</th>\n",
       "      <td>7324.984863</td>\n",
       "      <td>6540.049316</td>\n",
       "      <td>6647.698242</td>\n",
       "      <td>7276.802734</td>\n",
       "      <td>31836522778</td>\n",
       "      <td>7276.802734</td>\n",
       "    </tr>\n",
       "    <tr>\n",
       "      <th>2019-12-19</th>\n",
       "      <td>7346.602539</td>\n",
       "      <td>7041.381836</td>\n",
       "      <td>7277.590820</td>\n",
       "      <td>7202.844238</td>\n",
       "      <td>25904604415</td>\n",
       "      <td>7202.844238</td>\n",
       "    </tr>\n",
       "    <tr>\n",
       "      <th>2019-12-20</th>\n",
       "      <td>7257.921875</td>\n",
       "      <td>7086.124023</td>\n",
       "      <td>7208.636719</td>\n",
       "      <td>7218.816406</td>\n",
       "      <td>22633815180</td>\n",
       "      <td>7218.816406</td>\n",
       "    </tr>\n",
       "    <tr>\n",
       "      <th>2019-12-21</th>\n",
       "      <td>7223.226074</td>\n",
       "      <td>7112.735840</td>\n",
       "      <td>7220.593750</td>\n",
       "      <td>7191.158691</td>\n",
       "      <td>19312552168</td>\n",
       "      <td>7191.158691</td>\n",
       "    </tr>\n",
       "    <tr>\n",
       "      <th>2019-12-22</th>\n",
       "      <td>7518.033203</td>\n",
       "      <td>7167.179199</td>\n",
       "      <td>7191.188477</td>\n",
       "      <td>7511.588867</td>\n",
       "      <td>23134537956</td>\n",
       "      <td>7511.588867</td>\n",
       "    </tr>\n",
       "    <tr>\n",
       "      <th>...</th>\n",
       "      <td>...</td>\n",
       "      <td>...</td>\n",
       "      <td>...</td>\n",
       "      <td>...</td>\n",
       "      <td>...</td>\n",
       "      <td>...</td>\n",
       "    </tr>\n",
       "    <tr>\n",
       "      <th>2020-12-15</th>\n",
       "      <td>19525.007812</td>\n",
       "      <td>19079.841797</td>\n",
       "      <td>19246.919922</td>\n",
       "      <td>19417.076172</td>\n",
       "      <td>26741982541</td>\n",
       "      <td>19417.076172</td>\n",
       "    </tr>\n",
       "    <tr>\n",
       "      <th>2020-12-16</th>\n",
       "      <td>21458.908203</td>\n",
       "      <td>19298.316406</td>\n",
       "      <td>19418.818359</td>\n",
       "      <td>21310.597656</td>\n",
       "      <td>44409011479</td>\n",
       "      <td>21310.597656</td>\n",
       "    </tr>\n",
       "    <tr>\n",
       "      <th>2020-12-17</th>\n",
       "      <td>23642.660156</td>\n",
       "      <td>21234.675781</td>\n",
       "      <td>21308.351562</td>\n",
       "      <td>22805.162109</td>\n",
       "      <td>71378606374</td>\n",
       "      <td>22805.162109</td>\n",
       "    </tr>\n",
       "    <tr>\n",
       "      <th>2020-12-18</th>\n",
       "      <td>23238.601562</td>\n",
       "      <td>22399.812500</td>\n",
       "      <td>22806.796875</td>\n",
       "      <td>23137.960938</td>\n",
       "      <td>40387896275</td>\n",
       "      <td>23137.960938</td>\n",
       "    </tr>\n",
       "    <tr>\n",
       "      <th>2020-12-19</th>\n",
       "      <td>23193.230469</td>\n",
       "      <td>22848.425781</td>\n",
       "      <td>23176.804688</td>\n",
       "      <td>22971.441406</td>\n",
       "      <td>34845962240</td>\n",
       "      <td>22971.441406</td>\n",
       "    </tr>\n",
       "  </tbody>\n",
       "</table>\n",
       "<p>368 rows × 6 columns</p>\n",
       "</div>"
      ],
      "text/plain": [
       "                    High           Low          Open         Close  \\\n",
       "Date                                                                 \n",
       "2019-12-18   7324.984863   6540.049316   6647.698242   7276.802734   \n",
       "2019-12-19   7346.602539   7041.381836   7277.590820   7202.844238   \n",
       "2019-12-20   7257.921875   7086.124023   7208.636719   7218.816406   \n",
       "2019-12-21   7223.226074   7112.735840   7220.593750   7191.158691   \n",
       "2019-12-22   7518.033203   7167.179199   7191.188477   7511.588867   \n",
       "...                  ...           ...           ...           ...   \n",
       "2020-12-15  19525.007812  19079.841797  19246.919922  19417.076172   \n",
       "2020-12-16  21458.908203  19298.316406  19418.818359  21310.597656   \n",
       "2020-12-17  23642.660156  21234.675781  21308.351562  22805.162109   \n",
       "2020-12-18  23238.601562  22399.812500  22806.796875  23137.960938   \n",
       "2020-12-19  23193.230469  22848.425781  23176.804688  22971.441406   \n",
       "\n",
       "                 Volume     Adj Close  \n",
       "Date                                   \n",
       "2019-12-18  31836522778   7276.802734  \n",
       "2019-12-19  25904604415   7202.844238  \n",
       "2019-12-20  22633815180   7218.816406  \n",
       "2019-12-21  19312552168   7191.158691  \n",
       "2019-12-22  23134537956   7511.588867  \n",
       "...                 ...           ...  \n",
       "2020-12-15  26741982541  19417.076172  \n",
       "2020-12-16  44409011479  21310.597656  \n",
       "2020-12-17  71378606374  22805.162109  \n",
       "2020-12-18  40387896275  23137.960938  \n",
       "2020-12-19  34845962240  22971.441406  \n",
       "\n",
       "[368 rows x 6 columns]"
      ]
     },
     "execution_count": 3,
     "metadata": {},
     "output_type": "execute_result"
    }
   ],
   "source": [
    "bitcoin = dt.DataReader ('BTC-USD', data_source = 'yahoo', start = '2019-12-19')\n",
    "bitcoin"
   ]
  },
  {
   "cell_type": "code",
   "execution_count": 4,
   "metadata": {},
   "outputs": [],
   "source": [
    "# Now Finding Simple returns for Bitcoin-USD pair"
   ]
  },
  {
   "cell_type": "code",
   "execution_count": 6,
   "metadata": {},
   "outputs": [],
   "source": [
    "bitcoin['simple_return'] = (bitcoin['Adj Close'] / bitcoin['Adj Close'].shift(1)) - 1"
   ]
  },
  {
   "cell_type": "code",
   "execution_count": 7,
   "metadata": {},
   "outputs": [
    {
     "data": {
      "text/plain": [
       "Date\n",
       "2019-12-18         NaN\n",
       "2019-12-19   -0.010164\n",
       "2019-12-20    0.002217\n",
       "2019-12-21   -0.003831\n",
       "2019-12-22    0.044559\n",
       "                ...   \n",
       "2020-12-15    0.008855\n",
       "2020-12-16    0.097518\n",
       "2020-12-17    0.070132\n",
       "2020-12-18    0.014593\n",
       "2020-12-19   -0.007197\n",
       "Name: simple_return, Length: 368, dtype: float64"
      ]
     },
     "execution_count": 7,
     "metadata": {},
     "output_type": "execute_result"
    }
   ],
   "source": [
    "bitcoin['simple_return']"
   ]
  },
  {
   "cell_type": "code",
   "execution_count": 8,
   "metadata": {},
   "outputs": [
    {
     "data": {
      "text/plain": [
       "<matplotlib.axes._subplots.AxesSubplot at 0x13d4686f160>"
      ]
     },
     "execution_count": 8,
     "metadata": {},
     "output_type": "execute_result"
    },
    {
     "data": {
      "image/png": "[encoded data removed]",
      "text/plain": [
       "<Figure size 720x360 with 1 Axes>"
      ]
     },
     "metadata": {
      "needs_background": "light"
     },
     "output_type": "display_data"
    }
   ],
   "source": [
    "bitcoin['simple_return'].plot(figsize = (10, 5))"
   ]
  },
  {
   "cell_type": "code",
   "execution_count": 9,
   "metadata": {},
   "outputs": [],
   "source": [
    "# Average for total observations"
   ]
  },
  {
   "cell_type": "code",
   "execution_count": 10,
   "metadata": {},
   "outputs": [
    {
     "data": {
      "text/plain": [
       "0.00389"
      ]
     },
     "execution_count": 10,
     "metadata": {},
     "output_type": "execute_result"
    }
   ],
   "source": [
    "avg = round(bitcoin['simple_return'].mean(),5)\n",
    "avg"
   ]
  },
  {
   "cell_type": "code",
   "execution_count": 11,
   "metadata": {},
   "outputs": [],
   "source": [
    "# Crypto market never sleeps, So avg should be multiplied by 365"
   ]
  },
  {
   "cell_type": "code",
   "execution_count": 12,
   "metadata": {},
   "outputs": [
    {
     "data": {
      "text/plain": [
       "1.4198499999999998"
      ]
     },
     "execution_count": 12,
     "metadata": {},
     "output_type": "execute_result"
    }
   ],
   "source": [
    "avg = avg*365\n",
    "avg"
   ]
  },
  {
   "cell_type": "code",
   "execution_count": 13,
   "metadata": {},
   "outputs": [
    {
     "name": "stdout",
     "output_type": "stream",
     "text": [
      "141.985%\n"
     ]
    }
   ],
   "source": [
    "print (str(round(avg,5) * 100) + '%')"
   ]
  },
  {
   "cell_type": "markdown",
   "metadata": {},
   "source": [
    "# Logarithmic Returns"
   ]
  },
  {
   "cell_type": "code",
   "execution_count": 14,
   "metadata": {},
   "outputs": [
    {
     "name": "stdout",
     "output_type": "stream",
     "text": [
      "Date\n",
      "2019-12-18         NaN\n",
      "2019-12-19   -0.010216\n",
      "2019-12-20    0.002215\n",
      "2019-12-21   -0.003839\n",
      "2019-12-22    0.043595\n",
      "                ...   \n",
      "2020-12-15    0.008816\n",
      "2020-12-16    0.093052\n",
      "2020-12-17    0.067782\n",
      "2020-12-18    0.014488\n",
      "2020-12-19   -0.007223\n",
      "Name: log_return, Length: 368, dtype: float64\n"
     ]
    }
   ],
   "source": [
    "bitcoin ['log_return'] = np.log(bitcoin['Adj Close']/bitcoin['Adj Close'].shift(1))\n",
    "\n",
    "print (bitcoin['log_return'])"
   ]
  },
  {
   "cell_type": "code",
   "execution_count": 15,
   "metadata": {},
   "outputs": [
    {
     "data": {
      "image/png": "[encoded data removed]",
      "text/plain": [
       "<Figure size 576x360 with 1 Axes>"
      ]
     },
     "metadata": {
      "needs_background": "light"
     },
     "output_type": "display_data"
    }
   ],
   "source": [
    "bitcoin ['log_return'].plot(figsize = (8,5))\n",
    "plt.show()"
   ]
  },
  {
   "cell_type": "code",
   "execution_count": 16,
   "metadata": {},
   "outputs": [],
   "source": [
    "# Now the daily average of Log returns is:"
   ]
  },
  {
   "cell_type": "code",
   "execution_count": 17,
   "metadata": {},
   "outputs": [
    {
     "data": {
      "text/plain": [
       "0.00313"
      ]
     },
     "execution_count": 17,
     "metadata": {},
     "output_type": "execute_result"
    }
   ],
   "source": [
    "bitcoin_daily = round(bitcoin['log_return'].mean(),5)\n",
    "bitcoin_daily"
   ]
  },
  {
   "cell_type": "code",
   "execution_count": 18,
   "metadata": {},
   "outputs": [],
   "source": [
    "# Converting this into 365 working days of a year"
   ]
  },
  {
   "cell_type": "code",
   "execution_count": 19,
   "metadata": {},
   "outputs": [
    {
     "data": {
      "text/plain": [
       "1.14245"
      ]
     },
     "execution_count": 19,
     "metadata": {},
     "output_type": "execute_result"
    }
   ],
   "source": [
    "bitcoin_annual = round(bitcoin_daily * 365, 5)\n",
    "bitcoin_annual"
   ]
  },
  {
   "cell_type": "code",
   "execution_count": 20,
   "metadata": {},
   "outputs": [
    {
     "name": "stdout",
     "output_type": "stream",
     "text": [
      "114.24499999999999%\n"
     ]
    }
   ],
   "source": [
    "print (str(round(bitcoin_annual,5) * 100) + '%')"
   ]
  },
  {
   "cell_type": "code",
   "execution_count": null,
   "metadata": {},
   "outputs": [],
   "source": []
  }
 ],
 "metadata": {
  "kernelspec": {
   "display_name": "Python 3",
   "language": "python",
   "name": "python3"
  },
  "language_info": {
   "codemirror_mode": {
    "name": "ipython",
    "version": 3
   },
   "file_extension": ".py",
   "mimetype": "text/x-python",
   "name": "python",
   "nbconvert_exporter": "python",
   "pygments_lexer": "ipython3",
   "version": "3.8.3"
  }
 },
 "nbformat": 4,
 "nbformat_minor": 4
}
