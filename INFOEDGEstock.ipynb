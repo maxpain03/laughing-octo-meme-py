{
  "nbformat": 4,
  "nbformat_minor": 0,
  "metadata": {
    "kernelspec": {
      "display_name": "Python 3",
      "language": "python",
      "name": "python3"
    },
    "language_info": {
      "codemirror_mode": {
        "name": "ipython",
        "version": 3
      },
      "file_extension": ".py",
      "mimetype": "text/x-python",
      "name": "python",
      "nbconvert_exporter": "python",
      "pygments_lexer": "ipython3",
      "version": "3.8.3"
    },
    "colab": {
      "name": "INFOEDGEstock.ipynb",
      "provenance": [],
      "include_colab_link": true
    }
  },
  "cells": [
    {
      "cell_type": "markdown",
      "metadata": {
        "id": "view-in-github",
        "colab_type": "text"
      },
      "source": [
        "<a href=\"https://colab.research.google.com/github/maxpain03/laughing-octo-meme-py/blob/main/INFOEDGEstock.ipynb\" target=\"_parent\"><img src=\"https://colab.research.google.com/assets/colab-badge.svg\" alt=\"Open In Colab\"/></a>"
      ]
    },
    {
      "cell_type": "markdown",
      "metadata": {
        "id": "UCXcj7ntbfWl"
      },
      "source": [
        "# Simple Returns"
      ]
    },
    {
      "cell_type": "code",
      "metadata": {
        "id": "ZGd6pAOObfWs"
      },
      "source": [
        "import numpy as np\n",
        "import pandas as pd\n",
        "from pandas_datareader import data as dt\n",
        "import matplotlib.pyplot as plt"
      ],
      "execution_count": null,
      "outputs": []
    },
    {
      "cell_type": "code",
      "metadata": {
        "id": "PIfXJ7LNbfWt"
      },
      "source": [
        "## Considering Time Frame as 1 year (19 Dec 2019 to 18 Dec 2020)"
      ],
      "execution_count": null,
      "outputs": []
    },
    {
      "cell_type": "code",
      "metadata": {
        "id": "dMAh08mvbfWt",
        "outputId": "6c3ebb35-6bda-4c52-93b2-df663100517a"
      },
      "source": [
        "naukri = dt.DataReader ('NAUKRI.NS', data_source = 'yahoo', start = '2019-12-19')\n",
        "naukri"
      ],
      "execution_count": null,
      "outputs": [
        {
          "output_type": "execute_result",
          "data": {
            "text/html": [
              "<div>\n",
              "<style scoped>\n",
              "    .dataframe tbody tr th:only-of-type {\n",
              "        vertical-align: middle;\n",
              "    }\n",
              "\n",
              "    .dataframe tbody tr th {\n",
              "        vertical-align: top;\n",
              "    }\n",
              "\n",
              "    .dataframe thead th {\n",
              "        text-align: right;\n",
              "    }\n",
              "</style>\n",
              "<table border=\"1\" class=\"dataframe\">\n",
              "  <thead>\n",
              "    <tr style=\"text-align: right;\">\n",
              "      <th></th>\n",
              "      <th>High</th>\n",
              "      <th>Low</th>\n",
              "      <th>Open</th>\n",
              "      <th>Close</th>\n",
              "      <th>Volume</th>\n",
              "      <th>Adj Close</th>\n",
              "    </tr>\n",
              "    <tr>\n",
              "      <th>Date</th>\n",
              "      <th></th>\n",
              "      <th></th>\n",
              "      <th></th>\n",
              "      <th></th>\n",
              "      <th></th>\n",
              "      <th></th>\n",
              "    </tr>\n",
              "  </thead>\n",
              "  <tbody>\n",
              "    <tr>\n",
              "      <th>2019-12-19</th>\n",
              "      <td>2613.399902</td>\n",
              "      <td>2555.000000</td>\n",
              "      <td>2613.399902</td>\n",
              "      <td>2592.750000</td>\n",
              "      <td>154438.0</td>\n",
              "      <td>2589.531494</td>\n",
              "    </tr>\n",
              "    <tr>\n",
              "      <th>2019-12-20</th>\n",
              "      <td>2672.000000</td>\n",
              "      <td>2561.000000</td>\n",
              "      <td>2575.050049</td>\n",
              "      <td>2642.300049</td>\n",
              "      <td>409465.0</td>\n",
              "      <td>2639.020020</td>\n",
              "    </tr>\n",
              "    <tr>\n",
              "      <th>2019-12-23</th>\n",
              "      <td>2645.000000</td>\n",
              "      <td>2576.000000</td>\n",
              "      <td>2637.699951</td>\n",
              "      <td>2592.550049</td>\n",
              "      <td>163173.0</td>\n",
              "      <td>2589.331787</td>\n",
              "    </tr>\n",
              "    <tr>\n",
              "      <th>2019-12-24</th>\n",
              "      <td>2600.050049</td>\n",
              "      <td>2552.250000</td>\n",
              "      <td>2592.649902</td>\n",
              "      <td>2563.550049</td>\n",
              "      <td>92401.0</td>\n",
              "      <td>2560.367920</td>\n",
              "    </tr>\n",
              "    <tr>\n",
              "      <th>2019-12-26</th>\n",
              "      <td>2579.550049</td>\n",
              "      <td>2511.000000</td>\n",
              "      <td>2573.550049</td>\n",
              "      <td>2528.949951</td>\n",
              "      <td>84567.0</td>\n",
              "      <td>2525.810791</td>\n",
              "    </tr>\n",
              "    <tr>\n",
              "      <th>...</th>\n",
              "      <td>...</td>\n",
              "      <td>...</td>\n",
              "      <td>...</td>\n",
              "      <td>...</td>\n",
              "      <td>...</td>\n",
              "      <td>...</td>\n",
              "    </tr>\n",
              "    <tr>\n",
              "      <th>2020-12-14</th>\n",
              "      <td>4695.000000</td>\n",
              "      <td>4481.000000</td>\n",
              "      <td>4560.000000</td>\n",
              "      <td>4672.549805</td>\n",
              "      <td>657862.0</td>\n",
              "      <td>4672.549805</td>\n",
              "    </tr>\n",
              "    <tr>\n",
              "      <th>2020-12-15</th>\n",
              "      <td>4726.799805</td>\n",
              "      <td>4616.000000</td>\n",
              "      <td>4660.000000</td>\n",
              "      <td>4639.049805</td>\n",
              "      <td>620457.0</td>\n",
              "      <td>4639.049805</td>\n",
              "    </tr>\n",
              "    <tr>\n",
              "      <th>2020-12-16</th>\n",
              "      <td>4710.000000</td>\n",
              "      <td>4590.000000</td>\n",
              "      <td>4675.000000</td>\n",
              "      <td>4601.149902</td>\n",
              "      <td>449230.0</td>\n",
              "      <td>4601.149902</td>\n",
              "    </tr>\n",
              "    <tr>\n",
              "      <th>2020-12-17</th>\n",
              "      <td>4665.000000</td>\n",
              "      <td>4530.799805</td>\n",
              "      <td>4601.149902</td>\n",
              "      <td>4560.750000</td>\n",
              "      <td>329104.0</td>\n",
              "      <td>4560.750000</td>\n",
              "    </tr>\n",
              "    <tr>\n",
              "      <th>2020-12-18</th>\n",
              "      <td>4672.600098</td>\n",
              "      <td>4557.649902</td>\n",
              "      <td>4599.950195</td>\n",
              "      <td>4644.250000</td>\n",
              "      <td>478806.0</td>\n",
              "      <td>4644.250000</td>\n",
              "    </tr>\n",
              "  </tbody>\n",
              "</table>\n",
              "<p>250 rows × 6 columns</p>\n",
              "</div>"
            ],
            "text/plain": [
              "                   High          Low         Open        Close    Volume  \\\n",
              "Date                                                                       \n",
              "2019-12-19  2613.399902  2555.000000  2613.399902  2592.750000  154438.0   \n",
              "2019-12-20  2672.000000  2561.000000  2575.050049  2642.300049  409465.0   \n",
              "2019-12-23  2645.000000  2576.000000  2637.699951  2592.550049  163173.0   \n",
              "2019-12-24  2600.050049  2552.250000  2592.649902  2563.550049   92401.0   \n",
              "2019-12-26  2579.550049  2511.000000  2573.550049  2528.949951   84567.0   \n",
              "...                 ...          ...          ...          ...       ...   \n",
              "2020-12-14  4695.000000  4481.000000  4560.000000  4672.549805  657862.0   \n",
              "2020-12-15  4726.799805  4616.000000  4660.000000  4639.049805  620457.0   \n",
              "2020-12-16  4710.000000  4590.000000  4675.000000  4601.149902  449230.0   \n",
              "2020-12-17  4665.000000  4530.799805  4601.149902  4560.750000  329104.0   \n",
              "2020-12-18  4672.600098  4557.649902  4599.950195  4644.250000  478806.0   \n",
              "\n",
              "              Adj Close  \n",
              "Date                     \n",
              "2019-12-19  2589.531494  \n",
              "2019-12-20  2639.020020  \n",
              "2019-12-23  2589.331787  \n",
              "2019-12-24  2560.367920  \n",
              "2019-12-26  2525.810791  \n",
              "...                 ...  \n",
              "2020-12-14  4672.549805  \n",
              "2020-12-15  4639.049805  \n",
              "2020-12-16  4601.149902  \n",
              "2020-12-17  4560.750000  \n",
              "2020-12-18  4644.250000  \n",
              "\n",
              "[250 rows x 6 columns]"
            ]
          },
          "metadata": {
            "tags": []
          },
          "execution_count": 3
        }
      ]
    },
    {
      "cell_type": "markdown",
      "metadata": {
        "id": "88Jv5tAzbfWu"
      },
      "source": [
        "## Now Finding Simple returns for Infoedge (Naukri) comapany's stock listed on NSE"
      ]
    },
    {
      "cell_type": "code",
      "metadata": {
        "id": "eVDyd4QbbfWv"
      },
      "source": [
        "naukri['simple_return'] = (naukri['Adj Close'] / naukri['Adj Close'].shift(1)) - 1"
      ],
      "execution_count": null,
      "outputs": []
    },
    {
      "cell_type": "code",
      "metadata": {
        "id": "piWnJU7XbfWv",
        "outputId": "d57a5e5e-f7f4-47b6-c7c7-f560b5ec8545"
      },
      "source": [
        "naukri['simple_return']"
      ],
      "execution_count": null,
      "outputs": [
        {
          "output_type": "execute_result",
          "data": {
            "text/plain": [
              "Date\n",
              "2019-12-19         NaN\n",
              "2019-12-20    0.019111\n",
              "2019-12-23   -0.018828\n",
              "2019-12-24   -0.011186\n",
              "2019-12-26   -0.013497\n",
              "                ...   \n",
              "2020-12-14    0.033441\n",
              "2020-12-15   -0.007170\n",
              "2020-12-16   -0.008170\n",
              "2020-12-17   -0.008780\n",
              "2020-12-18    0.018308\n",
              "Name: simple_return, Length: 250, dtype: float64"
            ]
          },
          "metadata": {
            "tags": []
          },
          "execution_count": 6
        }
      ]
    },
    {
      "cell_type": "code",
      "metadata": {
        "id": "Y9MPHaK2bfWv",
        "outputId": "16734dd8-e6c5-4d35-d1ec-8490885d51b1"
      },
      "source": [
        "naukri['simple_return'].plot(figsize = (10, 5))"
      ],
      "execution_count": null,
      "outputs": [
        {
          "output_type": "execute_result",
          "data": {
            "text/plain": [
              "<matplotlib.axes._subplots.AxesSubplot at 0x21a585c7a30>"
            ]
          },
          "metadata": {
            "tags": []
          },
          "execution_count": 7
        },
        {
          "output_type": "display_data",
          "data": {
            "image/png": "[encoded data removed]",
            "text/plain": [
              "<Figure size 720x360 with 1 Axes>"
            ]
          },
          "metadata": {
            "tags": [],
            "needs_background": "light"
          }
        }
      ]
    },
    {
      "cell_type": "code",
      "metadata": {
        "id": "PRhxfqzJbfWw"
      },
      "source": [
        "# Average for total observations"
      ],
      "execution_count": null,
      "outputs": []
    },
    {
      "cell_type": "code",
      "metadata": {
        "id": "Yr0gO7oLbfWw",
        "outputId": "da3b242d-80bb-4c3d-d1f0-3ed9ca2c2914"
      },
      "source": [
        "avg = round(naukri['simple_return'].mean(),5)\n",
        "avg"
      ],
      "execution_count": null,
      "outputs": [
        {
          "output_type": "execute_result",
          "data": {
            "text/plain": [
              "0.00282"
            ]
          },
          "metadata": {
            "tags": []
          },
          "execution_count": 9
        }
      ]
    },
    {
      "cell_type": "code",
      "metadata": {
        "id": "wDjhsFlgbfWx"
      },
      "source": [
        "# Stock market is active for 250 days in a year hence average should be multiplied by 250"
      ],
      "execution_count": null,
      "outputs": []
    },
    {
      "cell_type": "code",
      "metadata": {
        "id": "W3HKqUuCbfWx",
        "outputId": "b9fffcf9-fdb5-47ac-888d-096850f04b45"
      },
      "source": [
        "avg = avg*250\n",
        "avg"
      ],
      "execution_count": null,
      "outputs": [
        {
          "output_type": "execute_result",
          "data": {
            "text/plain": [
              "0.705"
            ]
          },
          "metadata": {
            "tags": []
          },
          "execution_count": 11
        }
      ]
    },
    {
      "cell_type": "code",
      "metadata": {
        "id": "d-SDYwzpbfWx",
        "outputId": "3d86c03b-d673-4f35-8188-38c7d4c2247d"
      },
      "source": [
        "print (str(round(avg,5) * 100) + '%')"
      ],
      "execution_count": null,
      "outputs": [
        {
          "output_type": "stream",
          "text": [
            "70.5%\n"
          ],
          "name": "stdout"
        }
      ]
    },
    {
      "cell_type": "markdown",
      "metadata": {
        "id": "QnacQVDbbfWx"
      },
      "source": [
        "# Logarithmic Returns"
      ]
    },
    {
      "cell_type": "code",
      "metadata": {
        "id": "lHnVjZEybfWy",
        "outputId": "7c678a7b-a941-4e83-98d1-0ea9ccd9faa0"
      },
      "source": [
        "naukri ['log_return'] = np.log(naukri['Adj Close']/naukri['Adj Close'].shift(1))\n",
        "\n",
        "print (naukri['log_return'])"
      ],
      "execution_count": null,
      "outputs": [
        {
          "output_type": "stream",
          "text": [
            "Date\n",
            "2019-12-19         NaN\n",
            "2019-12-20    0.018931\n",
            "2019-12-23   -0.019008\n",
            "2019-12-24   -0.011249\n",
            "2019-12-26   -0.013589\n",
            "                ...   \n",
            "2020-12-14    0.032894\n",
            "2020-12-15   -0.007195\n",
            "2020-12-16   -0.008203\n",
            "2020-12-17   -0.008819\n",
            "2020-12-18    0.018143\n",
            "Name: log_return, Length: 250, dtype: float64\n"
          ],
          "name": "stdout"
        }
      ]
    },
    {
      "cell_type": "code",
      "metadata": {
        "id": "cRcUlKurbfWy",
        "outputId": "6565ac00-8816-4736-ff7a-fc1756b577b2"
      },
      "source": [
        "naukri ['log_return'].plot(figsize = (8,5))\n",
        "plt.show()"
      ],
      "execution_count": null,
      "outputs": [
        {
          "output_type": "display_data",
          "data": {
            "image/png": "[encoded data removed]",
            "text/plain": [
              "<Figure size 576x360 with 1 Axes>"
            ]
          },
          "metadata": {
            "tags": [],
            "needs_background": "light"
          }
        }
      ]
    },
    {
      "cell_type": "code",
      "metadata": {
        "id": "THses3CGbfWy"
      },
      "source": [
        "# Now the daily average of Log returns is:"
      ],
      "execution_count": null,
      "outputs": []
    },
    {
      "cell_type": "code",
      "metadata": {
        "id": "7JwlhjA9bfWz",
        "outputId": "e9268bd2-217e-4627-ea80-943c02fabcd7"
      },
      "source": [
        "naukri_daily = round(naukri['log_return'].mean(),5)\n",
        "naukri_daily"
      ],
      "execution_count": null,
      "outputs": [
        {
          "output_type": "execute_result",
          "data": {
            "text/plain": [
              "0.00235"
            ]
          },
          "metadata": {
            "tags": []
          },
          "execution_count": 16
        }
      ]
    },
    {
      "cell_type": "code",
      "metadata": {
        "id": "AFyoQf7obfWz"
      },
      "source": [
        "# Converting this into 250 working days of a year"
      ],
      "execution_count": null,
      "outputs": []
    },
    {
      "cell_type": "code",
      "metadata": {
        "id": "eN4dOWmtbfWz",
        "outputId": "9467a517-9d82-45b8-a1ba-15672baad4c9"
      },
      "source": [
        "naukri_annual = round(naukri_daily * 250, 5)\n",
        "naukri_annual"
      ],
      "execution_count": null,
      "outputs": [
        {
          "output_type": "execute_result",
          "data": {
            "text/plain": [
              "0.5875"
            ]
          },
          "metadata": {
            "tags": []
          },
          "execution_count": 19
        }
      ]
    },
    {
      "cell_type": "code",
      "metadata": {
        "id": "KQsp8X1rbfWz",
        "outputId": "30e11020-f80d-4d71-d885-e48d0f968f06"
      },
      "source": [
        "print (str(round(naukri_annual,5) * 100) + '%')"
      ],
      "execution_count": null,
      "outputs": [
        {
          "output_type": "stream",
          "text": [
            "58.75%\n"
          ],
          "name": "stdout"
        }
      ]
    },
    {
      "cell_type": "code",
      "metadata": {
        "id": "XCQRqLmcbfW0"
      },
      "source": [
        ""
      ],
      "execution_count": null,
      "outputs": []
    }
  ]
}