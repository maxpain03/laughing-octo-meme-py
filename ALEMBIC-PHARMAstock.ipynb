{
 "cells": [
  {
   "cell_type": "markdown",
   "metadata": {},
   "source": [
    "# Simple Returns"
   ]
  },
  {
   "cell_type": "code",
   "execution_count": 1,
   "metadata": {},
   "outputs": [],
   "source": [
    "import numpy as np\n",
    "import pandas as pd\n",
    "from pandas_datareader import data as dt\n",
    "import matplotlib.pyplot as plt"
   ]
  },
  {
   "cell_type": "code",
   "execution_count": 2,
   "metadata": {},
   "outputs": [],
   "source": [
    "## Considering Time Frame as 1 year (19 Dec 2019 to 18 Dec 2020)"
   ]
  },
  {
   "cell_type": "code",
   "execution_count": 3,
   "metadata": {},
   "outputs": [
    {
     "data": {
      "text/html": [
       "<div>\n",
       "<style scoped>\n",
       "    .dataframe tbody tr th:only-of-type {\n",
       "        vertical-align: middle;\n",
       "    }\n",
       "\n",
       "    .dataframe tbody tr th {\n",
       "        vertical-align: top;\n",
       "    }\n",
       "\n",
       "    .dataframe thead th {\n",
       "        text-align: right;\n",
       "    }\n",
       "</style>\n",
       "<table border=\"1\" class=\"dataframe\">\n",
       "  <thead>\n",
       "    <tr style=\"text-align: right;\">\n",
       "      <th></th>\n",
       "      <th>High</th>\n",
       "      <th>Low</th>\n",
       "      <th>Open</th>\n",
       "      <th>Close</th>\n",
       "      <th>Volume</th>\n",
       "      <th>Adj Close</th>\n",
       "    </tr>\n",
       "    <tr>\n",
       "      <th>Date</th>\n",
       "      <th></th>\n",
       "      <th></th>\n",
       "      <th></th>\n",
       "      <th></th>\n",
       "      <th></th>\n",
       "      <th></th>\n",
       "    </tr>\n",
       "  </thead>\n",
       "  <tbody>\n",
       "    <tr>\n",
       "      <th>2019-12-19</th>\n",
       "      <td>558.849976</td>\n",
       "      <td>550.000000</td>\n",
       "      <td>558.000000</td>\n",
       "      <td>552.099976</td>\n",
       "      <td>18645.0</td>\n",
       "      <td>549.215210</td>\n",
       "    </tr>\n",
       "    <tr>\n",
       "      <th>2019-12-20</th>\n",
       "      <td>553.950012</td>\n",
       "      <td>546.000000</td>\n",
       "      <td>551.000000</td>\n",
       "      <td>547.700012</td>\n",
       "      <td>36358.0</td>\n",
       "      <td>544.838196</td>\n",
       "    </tr>\n",
       "    <tr>\n",
       "      <th>2019-12-23</th>\n",
       "      <td>553.299988</td>\n",
       "      <td>538.549988</td>\n",
       "      <td>547.349976</td>\n",
       "      <td>541.349976</td>\n",
       "      <td>31696.0</td>\n",
       "      <td>538.521362</td>\n",
       "    </tr>\n",
       "    <tr>\n",
       "      <th>2019-12-24</th>\n",
       "      <td>551.000000</td>\n",
       "      <td>531.349976</td>\n",
       "      <td>531.349976</td>\n",
       "      <td>546.200012</td>\n",
       "      <td>51483.0</td>\n",
       "      <td>543.346069</td>\n",
       "    </tr>\n",
       "    <tr>\n",
       "      <th>2019-12-26</th>\n",
       "      <td>555.000000</td>\n",
       "      <td>545.049988</td>\n",
       "      <td>549.000000</td>\n",
       "      <td>546.049988</td>\n",
       "      <td>20347.0</td>\n",
       "      <td>543.196838</td>\n",
       "    </tr>\n",
       "    <tr>\n",
       "      <th>...</th>\n",
       "      <td>...</td>\n",
       "      <td>...</td>\n",
       "      <td>...</td>\n",
       "      <td>...</td>\n",
       "      <td>...</td>\n",
       "      <td>...</td>\n",
       "    </tr>\n",
       "    <tr>\n",
       "      <th>2020-12-14</th>\n",
       "      <td>1097.000000</td>\n",
       "      <td>1061.250000</td>\n",
       "      <td>1096.000000</td>\n",
       "      <td>1087.449951</td>\n",
       "      <td>258038.0</td>\n",
       "      <td>1087.449951</td>\n",
       "    </tr>\n",
       "    <tr>\n",
       "      <th>2020-12-15</th>\n",
       "      <td>1091.050049</td>\n",
       "      <td>1066.000000</td>\n",
       "      <td>1091.000000</td>\n",
       "      <td>1075.750000</td>\n",
       "      <td>193393.0</td>\n",
       "      <td>1075.750000</td>\n",
       "    </tr>\n",
       "    <tr>\n",
       "      <th>2020-12-16</th>\n",
       "      <td>1117.900024</td>\n",
       "      <td>1066.050049</td>\n",
       "      <td>1075.000000</td>\n",
       "      <td>1104.349976</td>\n",
       "      <td>317579.0</td>\n",
       "      <td>1104.349976</td>\n",
       "    </tr>\n",
       "    <tr>\n",
       "      <th>2020-12-17</th>\n",
       "      <td>1145.000000</td>\n",
       "      <td>1094.099976</td>\n",
       "      <td>1111.000000</td>\n",
       "      <td>1126.699951</td>\n",
       "      <td>442360.0</td>\n",
       "      <td>1126.699951</td>\n",
       "    </tr>\n",
       "    <tr>\n",
       "      <th>2020-12-18</th>\n",
       "      <td>1142.650024</td>\n",
       "      <td>1097.500000</td>\n",
       "      <td>1132.300049</td>\n",
       "      <td>1108.050049</td>\n",
       "      <td>252845.0</td>\n",
       "      <td>1108.050049</td>\n",
       "    </tr>\n",
       "  </tbody>\n",
       "</table>\n",
       "<p>250 rows × 6 columns</p>\n",
       "</div>"
      ],
      "text/plain": [
       "                   High          Low         Open        Close    Volume  \\\n",
       "Date                                                                       \n",
       "2019-12-19   558.849976   550.000000   558.000000   552.099976   18645.0   \n",
       "2019-12-20   553.950012   546.000000   551.000000   547.700012   36358.0   \n",
       "2019-12-23   553.299988   538.549988   547.349976   541.349976   31696.0   \n",
       "2019-12-24   551.000000   531.349976   531.349976   546.200012   51483.0   \n",
       "2019-12-26   555.000000   545.049988   549.000000   546.049988   20347.0   \n",
       "...                 ...          ...          ...          ...       ...   \n",
       "2020-12-14  1097.000000  1061.250000  1096.000000  1087.449951  258038.0   \n",
       "2020-12-15  1091.050049  1066.000000  1091.000000  1075.750000  193393.0   \n",
       "2020-12-16  1117.900024  1066.050049  1075.000000  1104.349976  317579.0   \n",
       "2020-12-17  1145.000000  1094.099976  1111.000000  1126.699951  442360.0   \n",
       "2020-12-18  1142.650024  1097.500000  1132.300049  1108.050049  252845.0   \n",
       "\n",
       "              Adj Close  \n",
       "Date                     \n",
       "2019-12-19   549.215210  \n",
       "2019-12-20   544.838196  \n",
       "2019-12-23   538.521362  \n",
       "2019-12-24   543.346069  \n",
       "2019-12-26   543.196838  \n",
       "...                 ...  \n",
       "2020-12-14  1087.449951  \n",
       "2020-12-15  1075.750000  \n",
       "2020-12-16  1104.349976  \n",
       "2020-12-17  1126.699951  \n",
       "2020-12-18  1108.050049  \n",
       "\n",
       "[250 rows x 6 columns]"
      ]
     },
     "execution_count": 3,
     "metadata": {},
     "output_type": "execute_result"
    }
   ],
   "source": [
    "alembic = dt.DataReader ('APLLTD.NS', data_source = 'yahoo', start = '2019-12-19')\n",
    "alembic"
   ]
  },
  {
   "cell_type": "code",
   "execution_count": 4,
   "metadata": {},
   "outputs": [],
   "source": [
    "# Now Finding Simple returns for Alembic Phaarmaceutical comapany's stock listed on NSE"
   ]
  },
  {
   "cell_type": "code",
   "execution_count": 5,
   "metadata": {},
   "outputs": [],
   "source": [
    "alembic['simple_return'] = (alembic['Adj Close'] / alembic['Adj Close'].shift(1)) - 1"
   ]
  },
  {
   "cell_type": "code",
   "execution_count": 6,
   "metadata": {},
   "outputs": [
    {
     "data": {
      "text/plain": [
       "Date\n",
       "2019-12-19         NaN\n",
       "2019-12-20   -0.007970\n",
       "2019-12-23   -0.011594\n",
       "2019-12-24    0.008959\n",
       "2019-12-26   -0.000275\n",
       "                ...   \n",
       "2020-12-14    0.001566\n",
       "2020-12-15   -0.010759\n",
       "2020-12-16    0.026586\n",
       "2020-12-17    0.020238\n",
       "2020-12-18   -0.016553\n",
       "Name: simple_return, Length: 250, dtype: float64"
      ]
     },
     "execution_count": 6,
     "metadata": {},
     "output_type": "execute_result"
    }
   ],
   "source": [
    "alembic['simple_return']"
   ]
  },
  {
   "cell_type": "code",
   "execution_count": 7,
   "metadata": {},
   "outputs": [
    {
     "data": {
      "text/plain": [
       "<matplotlib.axes._subplots.AxesSubplot at 0x271c4a70a30>"
      ]
     },
     "execution_count": 7,
     "metadata": {},
     "output_type": "execute_result"
    },
    {
     "data": {
      "image/png": "[encoded data removed]",
      "text/plain": [
       "<Figure size 720x360 with 1 Axes>"
      ]
     },
     "metadata": {
      "needs_background": "light"
     },
     "output_type": "display_data"
    }
   ],
   "source": [
    "alembic['simple_return'].plot(figsize = (10, 5))"
   ]
  },
  {
   "cell_type": "code",
   "execution_count": 8,
   "metadata": {},
   "outputs": [],
   "source": [
    "# Average for total observations"
   ]
  },
  {
   "cell_type": "code",
   "execution_count": 9,
   "metadata": {},
   "outputs": [
    {
     "data": {
      "text/plain": [
       "0.00329"
      ]
     },
     "execution_count": 9,
     "metadata": {},
     "output_type": "execute_result"
    }
   ],
   "source": [
    "avg = round(alembic['simple_return'].mean(),5)\n",
    "avg"
   ]
  },
  {
   "cell_type": "code",
   "execution_count": 10,
   "metadata": {},
   "outputs": [],
   "source": [
    "# Stock market is active for 250 days in a year hence average should be multiplied by 250"
   ]
  },
  {
   "cell_type": "code",
   "execution_count": 11,
   "metadata": {},
   "outputs": [
    {
     "data": {
      "text/plain": [
       "0.8225"
      ]
     },
     "execution_count": 11,
     "metadata": {},
     "output_type": "execute_result"
    }
   ],
   "source": [
    "avg = avg*250\n",
    "avg"
   ]
  },
  {
   "cell_type": "code",
   "execution_count": 12,
   "metadata": {},
   "outputs": [
    {
     "name": "stdout",
     "output_type": "stream",
     "text": [
      "82.25%\n"
     ]
    }
   ],
   "source": [
    "print (str(round(avg,5) * 100) + '%')"
   ]
  },
  {
   "cell_type": "markdown",
   "metadata": {},
   "source": [
    "# Logarithmic Returns"
   ]
  },
  {
   "cell_type": "code",
   "execution_count": 13,
   "metadata": {},
   "outputs": [
    {
     "name": "stdout",
     "output_type": "stream",
     "text": [
      "Date\n",
      "2019-12-19         NaN\n",
      "2019-12-20   -0.008002\n",
      "2019-12-23   -0.011662\n",
      "2019-12-24    0.008919\n",
      "2019-12-26   -0.000275\n",
      "                ...   \n",
      "2020-12-14    0.001564\n",
      "2020-12-15   -0.010817\n",
      "2020-12-16    0.026239\n",
      "2020-12-17    0.020036\n",
      "2020-12-18   -0.016691\n",
      "Name: log_return, Length: 250, dtype: float64\n"
     ]
    }
   ],
   "source": [
    "alembic ['log_return'] = np.log(alembic['Adj Close']/alembic['Adj Close'].shift(1))\n",
    "\n",
    "print (alembic['log_return'])"
   ]
  },
  {
   "cell_type": "code",
   "execution_count": 14,
   "metadata": {},
   "outputs": [
    {
     "data": {
      "image/png": "[encoded data removed]",
      "text/plain": [
       "<Figure size 576x360 with 1 Axes>"
      ]
     },
     "metadata": {
      "needs_background": "light"
     },
     "output_type": "display_data"
    }
   ],
   "source": [
    "alembic ['log_return'].plot(figsize = (8,5))\n",
    "plt.show()"
   ]
  },
  {
   "cell_type": "code",
   "execution_count": 15,
   "metadata": {},
   "outputs": [],
   "source": [
    "# Now the daily average of Log returns is:"
   ]
  },
  {
   "cell_type": "code",
   "execution_count": 16,
   "metadata": {},
   "outputs": [
    {
     "data": {
      "text/plain": [
       "0.00282"
      ]
     },
     "execution_count": 16,
     "metadata": {},
     "output_type": "execute_result"
    }
   ],
   "source": [
    "alembic_daily = round(alembic['log_return'].mean(),5)\n",
    "alembic_daily"
   ]
  },
  {
   "cell_type": "code",
   "execution_count": 17,
   "metadata": {},
   "outputs": [],
   "source": [
    "# Converting this into 250 working days of a year"
   ]
  },
  {
   "cell_type": "code",
   "execution_count": 18,
   "metadata": {},
   "outputs": [
    {
     "data": {
      "text/plain": [
       "0.705"
      ]
     },
     "execution_count": 18,
     "metadata": {},
     "output_type": "execute_result"
    }
   ],
   "source": [
    "alembic_annual = round(alembic_daily * 250, 5)\n",
    "alembic_annual"
   ]
  },
  {
   "cell_type": "code",
   "execution_count": 19,
   "metadata": {},
   "outputs": [
    {
     "name": "stdout",
     "output_type": "stream",
     "text": [
      "70.5%\n"
     ]
    }
   ],
   "source": [
    "print (str(round(alembic_annual,5) * 100) + '%')"
   ]
  }
 ],
 "metadata": {
  "kernelspec": {
   "display_name": "Python 3",
   "language": "python",
   "name": "python3"
  },
  "language_info": {
   "codemirror_mode": {
    "name": "ipython",
    "version": 3
   },
   "file_extension": ".py",
   "mimetype": "text/x-python",
   "name": "python",
   "nbconvert_exporter": "python",
   "pygments_lexer": "ipython3",
   "version": "3.8.3"
  }
 },
 "nbformat": 4,
 "nbformat_minor": 4
}
